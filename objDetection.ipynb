{
 "cells": [
  {
   "cell_type": "code",
   "execution_count": 1,
   "id": "a4c25546",
   "metadata": {},
   "outputs": [
    {
     "name": "stdout",
     "output_type": "stream",
     "text": [
      "Requirement already satisfied: tensorflow in c:\\users\\shrey\\anaconda3\\lib\\site-packages (2.4.1)\n",
      "Requirement already satisfied: astunparse~=1.6.3 in c:\\users\\shrey\\anaconda3\\lib\\site-packages (from tensorflow) (1.6.3)\n",
      "Requirement already satisfied: opt-einsum~=3.3.0 in c:\\users\\shrey\\anaconda3\\lib\\site-packages (from tensorflow) (3.3.0)\n",
      "Requirement already satisfied: absl-py~=0.10 in c:\\users\\shrey\\anaconda3\\lib\\site-packages (from tensorflow) (0.15.0)\n",
      "Requirement already satisfied: gast==0.3.3 in c:\\users\\shrey\\anaconda3\\lib\\site-packages (from tensorflow) (0.3.3)\n",
      "Requirement already satisfied: keras-preprocessing~=1.1.2 in c:\\users\\shrey\\anaconda3\\lib\\site-packages (from tensorflow) (1.1.2)\n",
      "Requirement already satisfied: protobuf>=3.9.2 in c:\\users\\shrey\\anaconda3\\lib\\site-packages (from tensorflow) (3.19.4)\n",
      "Requirement already satisfied: six~=1.15.0 in c:\\users\\shrey\\anaconda3\\lib\\site-packages (from tensorflow) (1.15.0)\n",
      "Requirement already satisfied: numpy~=1.19.2 in c:\\users\\shrey\\anaconda3\\lib\\site-packages (from tensorflow) (1.19.5)\n",
      "Requirement already satisfied: typing-extensions~=3.7.4 in c:\\users\\shrey\\anaconda3\\lib\\site-packages (from tensorflow) (3.7.4.3)\n",
      "Requirement already satisfied: flatbuffers~=1.12.0 in c:\\users\\shrey\\anaconda3\\lib\\site-packages (from tensorflow) (1.12)\n",
      "Requirement already satisfied: google-pasta~=0.2 in c:\\users\\shrey\\anaconda3\\lib\\site-packages (from tensorflow) (0.2.0)\n",
      "Requirement already satisfied: tensorflow-estimator<2.5.0,>=2.4.0 in c:\\users\\shrey\\anaconda3\\lib\\site-packages (from tensorflow) (2.4.0)\n",
      "Requirement already satisfied: termcolor~=1.1.0 in c:\\users\\shrey\\anaconda3\\lib\\site-packages (from tensorflow) (1.1.0)\n",
      "Requirement already satisfied: h5py~=2.10.0 in c:\\users\\shrey\\anaconda3\\lib\\site-packages (from tensorflow) (2.10.0)\n",
      "Requirement already satisfied: wrapt~=1.12.1 in c:\\users\\shrey\\anaconda3\\lib\\site-packages (from tensorflow) (1.12.1)\n",
      "Requirement already satisfied: grpcio~=1.32.0 in c:\\users\\shrey\\anaconda3\\lib\\site-packages (from tensorflow) (1.32.0)\n",
      "Requirement already satisfied: tensorboard~=2.4 in c:\\users\\shrey\\anaconda3\\lib\\site-packages (from tensorflow) (2.9.1)\n",
      "Requirement already satisfied: wheel~=0.35 in c:\\users\\shrey\\anaconda3\\lib\\site-packages (from tensorflow) (0.36.2)\n",
      "Requirement already satisfied: requests<3,>=2.21.0 in c:\\users\\shrey\\anaconda3\\lib\\site-packages (from tensorboard~=2.4->tensorflow) (2.25.1)\n",
      "Requirement already satisfied: google-auth<3,>=1.6.3 in c:\\users\\shrey\\anaconda3\\lib\\site-packages (from tensorboard~=2.4->tensorflow) (2.9.1)\n",
      "Requirement already satisfied: tensorboard-plugin-wit>=1.6.0 in c:\\users\\shrey\\anaconda3\\lib\\site-packages (from tensorboard~=2.4->tensorflow) (1.8.1)\n",
      "Requirement already satisfied: werkzeug>=1.0.1 in c:\\users\\shrey\\anaconda3\\lib\\site-packages (from tensorboard~=2.4->tensorflow) (1.0.1)\n",
      "Requirement already satisfied: markdown>=2.6.8 in c:\\users\\shrey\\anaconda3\\lib\\site-packages (from tensorboard~=2.4->tensorflow) (3.4)\n",
      "Requirement already satisfied: setuptools>=41.0.0 in c:\\users\\shrey\\anaconda3\\lib\\site-packages (from tensorboard~=2.4->tensorflow) (52.0.0.post20210125)\n",
      "Requirement already satisfied: tensorboard-data-server<0.7.0,>=0.6.0 in c:\\users\\shrey\\anaconda3\\lib\\site-packages (from tensorboard~=2.4->tensorflow) (0.6.1)\n",
      "Requirement already satisfied: google-auth-oauthlib<0.5,>=0.4.1 in c:\\users\\shrey\\anaconda3\\lib\\site-packages (from tensorboard~=2.4->tensorflow) (0.4.6)\n",
      "Requirement already satisfied: rsa<5,>=3.1.4 in c:\\users\\shrey\\anaconda3\\lib\\site-packages (from google-auth<3,>=1.6.3->tensorboard~=2.4->tensorflow) (4.8)\n",
      "Requirement already satisfied: cachetools<6.0,>=2.0.0 in c:\\users\\shrey\\anaconda3\\lib\\site-packages (from google-auth<3,>=1.6.3->tensorboard~=2.4->tensorflow) (5.1.0)\n",
      "Requirement already satisfied: pyasn1-modules>=0.2.1 in c:\\users\\shrey\\anaconda3\\lib\\site-packages (from google-auth<3,>=1.6.3->tensorboard~=2.4->tensorflow) (0.2.8)\n",
      "Requirement already satisfied: requests-oauthlib>=0.7.0 in c:\\users\\shrey\\anaconda3\\lib\\site-packages (from google-auth-oauthlib<0.5,>=0.4.1->tensorboard~=2.4->tensorflow) (1.3.1)\n",
      "Requirement already satisfied: importlib-metadata>=4.4 in c:\\users\\shrey\\anaconda3\\lib\\site-packages (from markdown>=2.6.8->tensorboard~=2.4->tensorflow) (4.12.0)\n",
      "Requirement already satisfied: zipp>=0.5 in c:\\users\\shrey\\anaconda3\\lib\\site-packages (from importlib-metadata>=4.4->markdown>=2.6.8->tensorboard~=2.4->tensorflow) (3.4.1)\n",
      "Requirement already satisfied: pyasn1<0.5.0,>=0.4.6 in c:\\users\\shrey\\anaconda3\\lib\\site-packages (from pyasn1-modules>=0.2.1->google-auth<3,>=1.6.3->tensorboard~=2.4->tensorflow) (0.4.8)\n",
      "Requirement already satisfied: urllib3<1.27,>=1.21.1 in c:\\users\\shrey\\anaconda3\\lib\\site-packages (from requests<3,>=2.21.0->tensorboard~=2.4->tensorflow) (1.26.4)\n",
      "Requirement already satisfied: chardet<5,>=3.0.2 in c:\\users\\shrey\\anaconda3\\lib\\site-packages (from requests<3,>=2.21.0->tensorboard~=2.4->tensorflow) (4.0.0)\n",
      "Requirement already satisfied: idna<3,>=2.5 in c:\\users\\shrey\\anaconda3\\lib\\site-packages (from requests<3,>=2.21.0->tensorboard~=2.4->tensorflow) (2.10)\n",
      "Requirement already satisfied: certifi>=2017.4.17 in c:\\users\\shrey\\anaconda3\\lib\\site-packages (from requests<3,>=2.21.0->tensorboard~=2.4->tensorflow) (2020.12.5)\n",
      "Requirement already satisfied: oauthlib>=3.0.0 in c:\\users\\shrey\\anaconda3\\lib\\site-packages (from requests-oauthlib>=0.7.0->google-auth-oauthlib<0.5,>=0.4.1->tensorboard~=2.4->tensorflow) (3.2.0)\n",
      "Note: you may need to restart the kernel to use updated packages.\n"
     ]
    }
   ],
   "source": [
    "pip install tensorflow"
   ]
  },
  {
   "cell_type": "code",
   "execution_count": 2,
   "id": "4d90875c",
   "metadata": {},
   "outputs": [
    {
     "name": "stdout",
     "output_type": "stream",
     "text": [
      "2.4.1\n"
     ]
    }
   ],
   "source": [
    "import tensorflow as tf\n",
    "print(tf.__version__)"
   ]
  },
  {
   "cell_type": "code",
   "execution_count": 3,
   "id": "a88d81fc",
   "metadata": {},
   "outputs": [
    {
     "name": "stdout",
     "output_type": "stream",
     "text": [
      "Requirement already satisfied: tensorflow-gpu==2.4.1 in c:\\users\\shrey\\anaconda3\\lib\\site-packages (2.4.1)\n",
      "Requirement already satisfied: astunparse~=1.6.3 in c:\\users\\shrey\\anaconda3\\lib\\site-packages (from tensorflow-gpu==2.4.1) (1.6.3)\n",
      "Requirement already satisfied: numpy~=1.19.2 in c:\\users\\shrey\\anaconda3\\lib\\site-packages (from tensorflow-gpu==2.4.1) (1.19.5)\n",
      "Requirement already satisfied: opt-einsum~=3.3.0 in c:\\users\\shrey\\anaconda3\\lib\\site-packages (from tensorflow-gpu==2.4.1) (3.3.0)\n",
      "Requirement already satisfied: protobuf>=3.9.2 in c:\\users\\shrey\\anaconda3\\lib\\site-packages (from tensorflow-gpu==2.4.1) (3.19.4)\n",
      "Requirement already satisfied: typing-extensions~=3.7.4 in c:\\users\\shrey\\anaconda3\\lib\\site-packages (from tensorflow-gpu==2.4.1) (3.7.4.3)\n",
      "Requirement already satisfied: absl-py~=0.10 in c:\\users\\shrey\\anaconda3\\lib\\site-packages (from tensorflow-gpu==2.4.1) (0.15.0)\n",
      "Requirement already satisfied: wrapt~=1.12.1 in c:\\users\\shrey\\anaconda3\\lib\\site-packages (from tensorflow-gpu==2.4.1) (1.12.1)\n",
      "Requirement already satisfied: six~=1.15.0 in c:\\users\\shrey\\anaconda3\\lib\\site-packages (from tensorflow-gpu==2.4.1) (1.15.0)\n",
      "Requirement already satisfied: keras-preprocessing~=1.1.2 in c:\\users\\shrey\\anaconda3\\lib\\site-packages (from tensorflow-gpu==2.4.1) (1.1.2)\n",
      "Requirement already satisfied: termcolor~=1.1.0 in c:\\users\\shrey\\anaconda3\\lib\\site-packages (from tensorflow-gpu==2.4.1) (1.1.0)\n",
      "Requirement already satisfied: tensorboard~=2.4 in c:\\users\\shrey\\anaconda3\\lib\\site-packages (from tensorflow-gpu==2.4.1) (2.9.1)\n",
      "Requirement already satisfied: h5py~=2.10.0 in c:\\users\\shrey\\anaconda3\\lib\\site-packages (from tensorflow-gpu==2.4.1) (2.10.0)\n",
      "Requirement already satisfied: gast==0.3.3 in c:\\users\\shrey\\anaconda3\\lib\\site-packages (from tensorflow-gpu==2.4.1) (0.3.3)\n",
      "Requirement already satisfied: flatbuffers~=1.12.0 in c:\\users\\shrey\\anaconda3\\lib\\site-packages (from tensorflow-gpu==2.4.1) (1.12)\n",
      "Requirement already satisfied: wheel~=0.35 in c:\\users\\shrey\\anaconda3\\lib\\site-packages (from tensorflow-gpu==2.4.1) (0.36.2)\n",
      "Requirement already satisfied: tensorflow-estimator<2.5.0,>=2.4.0 in c:\\users\\shrey\\anaconda3\\lib\\site-packages (from tensorflow-gpu==2.4.1) (2.4.0)\n",
      "Requirement already satisfied: google-pasta~=0.2 in c:\\users\\shrey\\anaconda3\\lib\\site-packages (from tensorflow-gpu==2.4.1) (0.2.0)\n",
      "Requirement already satisfied: grpcio~=1.32.0 in c:\\users\\shrey\\anaconda3\\lib\\site-packages (from tensorflow-gpu==2.4.1) (1.32.0)\n",
      "Requirement already satisfied: werkzeug>=1.0.1 in c:\\users\\shrey\\anaconda3\\lib\\site-packages (from tensorboard~=2.4->tensorflow-gpu==2.4.1) (1.0.1)\n",
      "Requirement already satisfied: markdown>=2.6.8 in c:\\users\\shrey\\anaconda3\\lib\\site-packages (from tensorboard~=2.4->tensorflow-gpu==2.4.1) (3.4)\n",
      "Requirement already satisfied: setuptools>=41.0.0 in c:\\users\\shrey\\anaconda3\\lib\\site-packages (from tensorboard~=2.4->tensorflow-gpu==2.4.1) (52.0.0.post20210125)\n",
      "Requirement already satisfied: tensorboard-data-server<0.7.0,>=0.6.0 in c:\\users\\shrey\\anaconda3\\lib\\site-packages (from tensorboard~=2.4->tensorflow-gpu==2.4.1) (0.6.1)\n",
      "Requirement already satisfied: requests<3,>=2.21.0 in c:\\users\\shrey\\anaconda3\\lib\\site-packages (from tensorboard~=2.4->tensorflow-gpu==2.4.1) (2.25.1)\n",
      "Requirement already satisfied: google-auth<3,>=1.6.3 in c:\\users\\shrey\\anaconda3\\lib\\site-packages (from tensorboard~=2.4->tensorflow-gpu==2.4.1) (2.9.1)\n",
      "Requirement already satisfied: google-auth-oauthlib<0.5,>=0.4.1 in c:\\users\\shrey\\anaconda3\\lib\\site-packages (from tensorboard~=2.4->tensorflow-gpu==2.4.1) (0.4.6)\n",
      "Requirement already satisfied: tensorboard-plugin-wit>=1.6.0 in c:\\users\\shrey\\anaconda3\\lib\\site-packages (from tensorboard~=2.4->tensorflow-gpu==2.4.1) (1.8.1)\n",
      "Requirement already satisfied: rsa<5,>=3.1.4 in c:\\users\\shrey\\anaconda3\\lib\\site-packages (from google-auth<3,>=1.6.3->tensorboard~=2.4->tensorflow-gpu==2.4.1) (4.8)\n",
      "Requirement already satisfied: pyasn1-modules>=0.2.1 in c:\\users\\shrey\\anaconda3\\lib\\site-packages (from google-auth<3,>=1.6.3->tensorboard~=2.4->tensorflow-gpu==2.4.1) (0.2.8)\n",
      "Requirement already satisfied: cachetools<6.0,>=2.0.0 in c:\\users\\shrey\\anaconda3\\lib\\site-packages (from google-auth<3,>=1.6.3->tensorboard~=2.4->tensorflow-gpu==2.4.1) (5.1.0)\n",
      "Requirement already satisfied: requests-oauthlib>=0.7.0 in c:\\users\\shrey\\anaconda3\\lib\\site-packages (from google-auth-oauthlib<0.5,>=0.4.1->tensorboard~=2.4->tensorflow-gpu==2.4.1) (1.3.1)\n",
      "Requirement already satisfied: importlib-metadata>=4.4 in c:\\users\\shrey\\anaconda3\\lib\\site-packages (from markdown>=2.6.8->tensorboard~=2.4->tensorflow-gpu==2.4.1) (4.12.0)\n",
      "Requirement already satisfied: zipp>=0.5 in c:\\users\\shrey\\anaconda3\\lib\\site-packages (from importlib-metadata>=4.4->markdown>=2.6.8->tensorboard~=2.4->tensorflow-gpu==2.4.1) (3.4.1)\n",
      "Requirement already satisfied: pyasn1<0.5.0,>=0.4.6 in c:\\users\\shrey\\anaconda3\\lib\\site-packages (from pyasn1-modules>=0.2.1->google-auth<3,>=1.6.3->tensorboard~=2.4->tensorflow-gpu==2.4.1) (0.4.8)\n",
      "Requirement already satisfied: idna<3,>=2.5 in c:\\users\\shrey\\anaconda3\\lib\\site-packages (from requests<3,>=2.21.0->tensorboard~=2.4->tensorflow-gpu==2.4.1) (2.10)\n",
      "Requirement already satisfied: chardet<5,>=3.0.2 in c:\\users\\shrey\\anaconda3\\lib\\site-packages (from requests<3,>=2.21.0->tensorboard~=2.4->tensorflow-gpu==2.4.1) (4.0.0)\n",
      "Requirement already satisfied: certifi>=2017.4.17 in c:\\users\\shrey\\anaconda3\\lib\\site-packages (from requests<3,>=2.21.0->tensorboard~=2.4->tensorflow-gpu==2.4.1) (2020.12.5)\n",
      "Requirement already satisfied: urllib3<1.27,>=1.21.1 in c:\\users\\shrey\\anaconda3\\lib\\site-packages (from requests<3,>=2.21.0->tensorboard~=2.4->tensorflow-gpu==2.4.1) (1.26.4)\n",
      "Requirement already satisfied: oauthlib>=3.0.0 in c:\\users\\shrey\\anaconda3\\lib\\site-packages (from requests-oauthlib>=0.7.0->google-auth-oauthlib<0.5,>=0.4.1->tensorboard~=2.4->tensorflow-gpu==2.4.1) (3.2.0)\n",
      "Note: you may need to restart the kernel to use updated packages.\n"
     ]
    }
   ],
   "source": [
    "pip install tensorflow-gpu==2.4.1"
   ]
  },
  {
   "cell_type": "code",
   "execution_count": 4,
   "id": "cdc42726",
   "metadata": {},
   "outputs": [
    {
     "name": "stdout",
     "output_type": "stream",
     "text": [
      "Requirement already satisfied: pixellib in c:\\users\\shrey\\anaconda3\\lib\\site-packages (0.7.1)\n",
      "Requirement already satisfied: imantics in c:\\users\\shrey\\anaconda3\\lib\\site-packages (from pixellib) (0.1.12)\n",
      "Requirement already satisfied: fvcore in c:\\users\\shrey\\anaconda3\\lib\\site-packages (from pixellib) (0.1.5.post20220512)\n",
      "Requirement already satisfied: tqdm in c:\\users\\shrey\\anaconda3\\lib\\site-packages (from pixellib) (4.59.0)\n",
      "Requirement already satisfied: imgaug in c:\\users\\shrey\\anaconda3\\lib\\site-packages (from pixellib) (0.4.0)\n",
      "Requirement already satisfied: tabulate in c:\\users\\shrey\\anaconda3\\lib\\site-packages (from pixellib) (0.8.10)\n",
      "Requirement already satisfied: pillow in c:\\users\\shrey\\anaconda3\\lib\\site-packages (from pixellib) (8.2.0)\n",
      "Requirement already satisfied: pyQt5 in c:\\users\\shrey\\anaconda3\\lib\\site-packages (from pixellib) (5.15.7)\n",
      "Requirement already satisfied: pydot in c:\\users\\shrey\\anaconda3\\lib\\site-packages (from pixellib) (1.4.2)\n",
      "Requirement already satisfied: black in c:\\users\\shrey\\anaconda3\\lib\\site-packages (from pixellib) (19.10b0)\n",
      "Requirement already satisfied: omegaconf in c:\\users\\shrey\\anaconda3\\lib\\site-packages (from pixellib) (2.2.3)\n",
      "Requirement already satisfied: scikit-image in c:\\users\\shrey\\anaconda3\\lib\\site-packages (from pixellib) (0.18.1)\n",
      "Requirement already satisfied: hydra-core in c:\\users\\shrey\\anaconda3\\lib\\site-packages (from pixellib) (1.2.0)\n",
      "Requirement already satisfied: labelme2coco in c:\\users\\shrey\\anaconda3\\lib\\site-packages (from pixellib) (0.2.1)\n",
      "Requirement already satisfied: future in c:\\users\\shrey\\anaconda3\\lib\\site-packages (from pixellib) (0.18.2)\n",
      "Requirement already satisfied: iopath in c:\\users\\shrey\\anaconda3\\lib\\site-packages (from pixellib) (0.1.10)\n",
      "Requirement already satisfied: matplotlib in c:\\users\\shrey\\anaconda3\\lib\\site-packages (from pixellib) (3.3.4)\n",
      "Requirement already satisfied: dataclasses in c:\\users\\shrey\\anaconda3\\lib\\site-packages (from pixellib) (0.6)\n",
      "Requirement already satisfied: yacs in c:\\users\\shrey\\anaconda3\\lib\\site-packages (from pixellib) (0.1.8)\n",
      "Requirement already satisfied: cloudpickle in c:\\users\\shrey\\anaconda3\\lib\\site-packages (from pixellib) (1.6.0)\n",
      "Requirement already satisfied: termcolor in c:\\users\\shrey\\anaconda3\\lib\\site-packages (from pixellib) (1.1.0)\n",
      "Requirement already satisfied: opencv-python in c:\\users\\shrey\\anaconda3\\lib\\site-packages (from pixellib) (4.6.0.66)\n",
      "Requirement already satisfied: Cython in c:\\users\\shrey\\anaconda3\\lib\\site-packages (from pixellib) (0.29.23)\n",
      "Requirement already satisfied: appdirs in c:\\users\\shrey\\anaconda3\\lib\\site-packages (from black->pixellib) (1.4.4)\n",
      "Requirement already satisfied: toml>=0.9.4 in c:\\users\\shrey\\anaconda3\\lib\\site-packages (from black->pixellib) (0.10.2)\n",
      "Requirement already satisfied: pathspec<1,>=0.6 in c:\\users\\shrey\\anaconda3\\lib\\site-packages (from black->pixellib) (0.7.0)\n",
      "Requirement already satisfied: attrs>=18.1.0 in c:\\users\\shrey\\anaconda3\\lib\\site-packages (from black->pixellib) (20.3.0)\n",
      "Requirement already satisfied: regex in c:\\users\\shrey\\anaconda3\\lib\\site-packages (from black->pixellib) (2021.4.4)\n",
      "Requirement already satisfied: typed-ast>=1.4.0 in c:\\users\\shrey\\anaconda3\\lib\\site-packages (from black->pixellib) (1.4.2)\n",
      "Requirement already satisfied: click>=6.5 in c:\\users\\shrey\\anaconda3\\lib\\site-packages (from black->pixellib) (8.0.4)\n",
      "Requirement already satisfied: colorama in c:\\users\\shrey\\anaconda3\\lib\\site-packages (from click>=6.5->black->pixellib) (0.4.4)\n",
      "Requirement already satisfied: pyyaml>=5.1 in c:\\users\\shrey\\anaconda3\\lib\\site-packages (from fvcore->pixellib) (5.4.1)\n",
      "Requirement already satisfied: numpy in c:\\users\\shrey\\anaconda3\\lib\\site-packages (from fvcore->pixellib) (1.19.5)\n",
      "Requirement already satisfied: typing-extensions in c:\\users\\shrey\\anaconda3\\lib\\site-packages (from iopath->pixellib) (3.7.4.3)\n",
      "Requirement already satisfied: portalocker in c:\\users\\shrey\\anaconda3\\lib\\site-packages (from iopath->pixellib) (2.5.1)\n",
      "Requirement already satisfied: packaging in c:\\users\\shrey\\anaconda3\\lib\\site-packages (from hydra-core->pixellib) (20.9)\n",
      "Requirement already satisfied: antlr4-python3-runtime==4.9.* in c:\\users\\shrey\\anaconda3\\lib\\site-packages (from hydra-core->pixellib) (4.9.3)\n",
      "Requirement already satisfied: importlib-resources in c:\\users\\shrey\\anaconda3\\lib\\site-packages (from hydra-core->pixellib) (5.9.0)\n",
      "Requirement already satisfied: xmljson in c:\\users\\shrey\\anaconda3\\lib\\site-packages (from imantics->pixellib) (0.2.1)\n",
      "Requirement already satisfied: lxml in c:\\users\\shrey\\anaconda3\\lib\\site-packages (from imantics->pixellib) (4.6.3)\n",
      "Requirement already satisfied: Shapely in c:\\users\\shrey\\anaconda3\\lib\\site-packages (from imgaug->pixellib) (1.8.4)\n",
      "Requirement already satisfied: six in c:\\users\\shrey\\anaconda3\\lib\\site-packages (from imgaug->pixellib) (1.15.0)\n",
      "Requirement already satisfied: imageio in c:\\users\\shrey\\anaconda3\\lib\\site-packages (from imgaug->pixellib) (2.9.0)\n",
      "Requirement already satisfied: scipy in c:\\users\\shrey\\anaconda3\\lib\\site-packages (from imgaug->pixellib) (1.6.2)\n",
      "Requirement already satisfied: networkx>=2.0 in c:\\users\\shrey\\anaconda3\\lib\\site-packages (from scikit-image->pixellib) (2.5)\n",
      "Requirement already satisfied: tifffile>=2019.7.26 in c:\\users\\shrey\\anaconda3\\lib\\site-packages (from scikit-image->pixellib) (2021.4.8)\n",
      "Requirement already satisfied: PyWavelets>=1.1.1 in c:\\users\\shrey\\anaconda3\\lib\\site-packages (from scikit-image->pixellib) (1.1.1)\n",
      "Requirement already satisfied: kiwisolver>=1.0.1 in c:\\users\\shrey\\anaconda3\\lib\\site-packages (from matplotlib->pixellib) (1.3.1)\n",
      "Requirement already satisfied: python-dateutil>=2.1 in c:\\users\\shrey\\anaconda3\\lib\\site-packages (from matplotlib->pixellib) (2.8.1)\n",
      "Requirement already satisfied: pyparsing!=2.0.4,!=2.1.2,!=2.1.6,>=2.0.3 in c:\\users\\shrey\\anaconda3\\lib\\site-packages (from matplotlib->pixellib) (2.4.7)\n",
      "Requirement already satisfied: cycler>=0.10 in c:\\users\\shrey\\anaconda3\\lib\\site-packages (from matplotlib->pixellib) (0.10.0)\n",
      "Requirement already satisfied: decorator>=4.3.0 in c:\\users\\shrey\\anaconda3\\lib\\site-packages (from networkx>=2.0->scikit-image->pixellib) (5.0.6)\n",
      "Requirement already satisfied: zipp>=3.1.0 in c:\\users\\shrey\\anaconda3\\lib\\site-packages (from importlib-resources->hydra-core->pixellib) (3.4.1)\n",
      "Requirement already satisfied: sahi>=0.8.19 in c:\\users\\shrey\\anaconda3\\lib\\site-packages (from labelme2coco->pixellib) (0.10.7)\n",
      "Requirement already satisfied: jsonschema>=2.6.0 in c:\\users\\shrey\\anaconda3\\lib\\site-packages (from labelme2coco->pixellib) (3.2.0)\n",
      "Requirement already satisfied: setuptools in c:\\users\\shrey\\anaconda3\\lib\\site-packages (from jsonschema>=2.6.0->labelme2coco->pixellib) (52.0.0.post20210125)\n",
      "Requirement already satisfied: pyrsistent>=0.14.0 in c:\\users\\shrey\\anaconda3\\lib\\site-packages (from jsonschema>=2.6.0->labelme2coco->pixellib) (0.17.3)\n",
      "Requirement already satisfied: terminaltables in c:\\users\\shrey\\anaconda3\\lib\\site-packages (from sahi>=0.8.19->labelme2coco->pixellib) (3.1.10)\n",
      "Requirement already satisfied: pybboxes==0.1.5 in c:\\users\\shrey\\anaconda3\\lib\\site-packages (from sahi>=0.8.19->labelme2coco->pixellib) (0.1.5)\n",
      "Requirement already satisfied: requests in c:\\users\\shrey\\anaconda3\\lib\\site-packages (from sahi>=0.8.19->labelme2coco->pixellib) (2.25.1)\n",
      "Requirement already satisfied: fire in c:\\users\\shrey\\anaconda3\\lib\\site-packages (from sahi>=0.8.19->labelme2coco->pixellib) (0.4.0)\n",
      "Requirement already satisfied: pywin32>=226 in c:\\users\\shrey\\anaconda3\\lib\\site-packages (from portalocker->iopath->pixellib) (227)\n",
      "Requirement already satisfied: PyQt5-Qt5>=5.15.0 in c:\\users\\shrey\\anaconda3\\lib\\site-packages (from pyQt5->pixellib) (5.15.2)\n",
      "Requirement already satisfied: PyQt5-sip<13,>=12.11 in c:\\users\\shrey\\anaconda3\\lib\\site-packages (from pyQt5->pixellib) (12.11.0)\n",
      "Requirement already satisfied: urllib3<1.27,>=1.21.1 in c:\\users\\shrey\\anaconda3\\lib\\site-packages (from requests->sahi>=0.8.19->labelme2coco->pixellib) (1.26.4)\n",
      "Requirement already satisfied: chardet<5,>=3.0.2 in c:\\users\\shrey\\anaconda3\\lib\\site-packages (from requests->sahi>=0.8.19->labelme2coco->pixellib) (4.0.0)\n",
      "Requirement already satisfied: certifi>=2017.4.17 in c:\\users\\shrey\\anaconda3\\lib\\site-packages (from requests->sahi>=0.8.19->labelme2coco->pixellib) (2020.12.5)\n",
      "Requirement already satisfied: idna<3,>=2.5 in c:\\users\\shrey\\anaconda3\\lib\\site-packages (from requests->sahi>=0.8.19->labelme2coco->pixellib) (2.10)\n",
      "Note: you may need to restart the kernel to use updated packages.\n"
     ]
    }
   ],
   "source": [
    "pip install pixellib"
   ]
  },
  {
   "cell_type": "code",
   "execution_count": 5,
   "id": "5bcfe3ec",
   "metadata": {},
   "outputs": [
    {
     "name": "stdout",
     "output_type": "stream",
     "text": [
      "Requirement already satisfied: opencv-python in c:\\users\\shrey\\anaconda3\\lib\\site-packages (4.6.0.66)\n",
      "Requirement already satisfied: numpy>=1.14.5 in c:\\users\\shrey\\anaconda3\\lib\\site-packages (from opencv-python) (1.19.5)\n",
      "Note: you may need to restart the kernel to use updated packages.\n"
     ]
    }
   ],
   "source": [
    "pip install opencv-python"
   ]
  },
  {
   "cell_type": "code",
   "execution_count": 6,
   "id": "e1a739da",
   "metadata": {},
   "outputs": [],
   "source": [
    "import pixellib\n",
    "from pixellib.instance import instance_segmentation\n",
    "import cv2"
   ]
  },
  {
   "cell_type": "code",
   "execution_count": 7,
   "id": "cdd93e05",
   "metadata": {},
   "outputs": [
    {
     "name": "stdout",
     "output_type": "stream",
     "text": [
      "WARNING:tensorflow:From C:\\Users\\shrey\\anaconda3\\lib\\site-packages\\tensorflow\\python\\util\\deprecation.py:605: calling map_fn_v2 (from tensorflow.python.ops.map_fn) with dtype is deprecated and will be removed in a future version.\n",
      "Instructions for updating:\n",
      "Use fn_output_signature instead\n"
     ]
    }
   ],
   "source": [
    "segmentation_model = instance_segmentation()\n",
    "segmentation_model.load_model('mask_rcnn_coco.h5')"
   ]
  },
  {
   "cell_type": "code",
   "execution_count": null,
   "id": "d21bd21c",
   "metadata": {},
   "outputs": [
    {
     "name": "stderr",
     "output_type": "stream",
     "text": [
      "C:\\Users\\shrey\\anaconda3\\lib\\site-packages\\tensorflow\\python\\keras\\engine\\training.py:2325: UserWarning: `Model.state_updates` will be removed in a future version. This property should not be used in TensorFlow 2.0, as `updates` are applied automatically.\n",
      "  warnings.warn('`Model.state_updates` will be removed in a future version. '\n"
     ]
    }
   ],
   "source": [
    "cap = cv2.VideoCapture(0)\n",
    "while cap.isOpened():\n",
    "    ret, frame = cap.read()\n",
    "    \n",
    "    # Apply instance segmentation\n",
    "    res = segmentation_model.segmentFrame(frame, show_bboxes=True)\n",
    "    image = res[1]\n",
    "    \n",
    "    cv2.imshow('Instance Segmentation', image)\n",
    "    \n",
    "    if cv2.waitKey(10) & 0xFF == ord('q'):\n",
    "        break\n",
    "        \n",
    "cap.release()\n",
    "cv2.destroyAllWindows()"
   ]
  },
  {
   "cell_type": "code",
   "execution_count": null,
   "id": "fd0b20e5",
   "metadata": {},
   "outputs": [],
   "source": [
    "segmentation_model.segmentFrame??"
   ]
  },
  {
   "cell_type": "code",
   "execution_count": null,
   "id": "8d4542f5",
   "metadata": {},
   "outputs": [],
   "source": []
  }
 ],
 "metadata": {
  "kernelspec": {
   "display_name": "Python 3",
   "language": "python",
   "name": "python3"
  },
  "language_info": {
   "codemirror_mode": {
    "name": "ipython",
    "version": 3
   },
   "file_extension": ".py",
   "mimetype": "text/x-python",
   "name": "python",
   "nbconvert_exporter": "python",
   "pygments_lexer": "ipython3",
   "version": "3.8.8"
  }
 },
 "nbformat": 4,
 "nbformat_minor": 5
}
